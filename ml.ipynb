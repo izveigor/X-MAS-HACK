{
 "cells": [
  {
   "attachments": {},
   "cell_type": "markdown",
   "metadata": {},
   "source": [
    "Автор ноутбука: Izvekov Igor (izveigor@gmail.com)"
   ]
  },
  {
   "cell_type": "code",
   "execution_count": 51,
   "metadata": {},
   "outputs": [
    {
     "name": "stderr",
     "output_type": "stream",
     "text": [
      "[nltk_data] Downloading package stopwords to /home/igor/nltk_data...\n",
      "[nltk_data]   Package stopwords is already up-to-date!\n",
      "[nltk_data] Downloading package wordnet to /home/igor/nltk_data...\n",
      "[nltk_data]   Package wordnet is already up-to-date!\n"
     ]
    }
   ],
   "source": [
    "import pandas as pd\n",
    "import pickle\n",
    "import re\n",
    "import json\n",
    "import os\n",
    "\n",
    "import nltk\n",
    "nltk.download('stopwords')\n",
    "nltk.download('wordnet')\n",
    "\n",
    "from nltk.stem import WordNetLemmatizer\n",
    "from nltk.corpus import stopwords\n",
    "\n",
    "lemmatizer = WordNetLemmatizer()\n",
    "stop_words = set(stopwords.words('russian'))\n",
    "\n",
    "from keras.utils import np_utils\n",
    "from keras.models import Sequential\n",
    "from keras.layers.core import Dense, Activation, Dropout\n",
    "\n",
    "from sklearn.feature_extraction.text import TfidfVectorizer\n",
    "from sklearn.model_selection import train_test_split\n",
    "from sklearn.preprocessing import OneHotEncoder\n",
    "from sklearn.ensemble import RandomForestClassifier\n",
    "\n",
    "import tika\n",
    "from tika import parser\n",
    "tika.initVM()"
   ]
  },
  {
   "cell_type": "code",
   "execution_count": 52,
   "metadata": {},
   "outputs": [],
   "source": [
    "classification = {\n",
    "    \"Договоры для акселератора/Договоры поставки\": 0,\n",
    "    \"Договоры для акселератора/Договоры оказания услуг\": 1,\n",
    "    \"Договоры для акселератора/Договоры подряда\": 2,\n",
    "    \"Договоры для акселератора/Договоры аренды\": 3,\n",
    "    \"Договоры для акселератора/Договоры купли-продажи\": 4,\n",
    "}"
   ]
  },
  {
   "cell_type": "code",
   "execution_count": 53,
   "metadata": {},
   "outputs": [],
   "source": [
    "# Загружаем текста в датасет\n",
    "\n",
    "data = []\n",
    "with open(\"classes.json\") as json_file:\n",
    "    json_data = json_file.read()\n",
    "    try:\n",
    "        classes = json.loads(json_data)\n",
    "    except Exception as e:\n",
    "        raise e\n",
    "\n",
    "    for index, file in enumerate(os.listdir('./docs'), start=1):\n",
    "        class_ = classification[classes[file]]\n",
    "        parsed = parser.from_file(os.path.join('docs', file))\n",
    "        content = parsed['content']\n",
    "        data.append([index, content, class_])\n",
    "\n",
    "dataset = pd.DataFrame(data, columns=['index', 'text', 'target'])\n",
    "X = dataset['text'].astype('string')\n",
    "y = dataset.target.astype('int32')"
   ]
  },
  {
   "cell_type": "code",
   "execution_count": 54,
   "metadata": {},
   "outputs": [],
   "source": [
    "X_train, X_test, y_train, y_test = train_test_split(X, y, test_size=0.05, random_state=42)"
   ]
  },
  {
   "cell_type": "code",
   "execution_count": 55,
   "metadata": {},
   "outputs": [
    {
     "name": "stdout",
     "output_type": "stream",
     "text": [
      "[[0. 1. 0. 0. 0.]\n",
      " [1. 0. 0. 0. 0.]\n",
      " [1. 0. 0. 0. 0.]\n",
      " [0. 0. 0. 1. 0.]\n",
      " [0. 1. 0. 0. 0.]]\n"
     ]
    }
   ],
   "source": [
    "one_hot_encoder = OneHotEncoder()\n",
    "y_train = one_hot_encoder.fit_transform([[target] for target in y_train]).toarray()\n",
    "y_test = one_hot_encoder.transform([[target] for target in y_test]).toarray()\n",
    "print(y_train[:5])"
   ]
  },
  {
   "cell_type": "code",
   "execution_count": 56,
   "metadata": {},
   "outputs": [],
   "source": [
    "# Очищаем текста от ненужных символов\n",
    "def cleaning(doc):\n",
    "    text = \"\"\n",
    "    for word in doc:\n",
    "        token = re.sub(\"[^А-Яа-я\\n ']+\", '', str(word)).lower()\n",
    "        if token:\n",
    "            token = re.sub(\"\\n\", \" \", token)\n",
    "            text += token\n",
    "    text = ' '.join(text.split())\n",
    "\n",
    "    cleaned_field = []\n",
    "    for word in text.split():\n",
    "        lemma_ = lemmatizer.lemmatize(word)\n",
    "        if lemma_ not in stop_words:\n",
    "            cleaned_field.append(lemma_)\n",
    "\n",
    "    return cleaned_field\n",
    "\n",
    "X_train = [cleaning(text) for text in X_train]\n",
    "X_test = [cleaning(text) for text in X_test]"
   ]
  },
  {
   "cell_type": "code",
   "execution_count": 57,
   "metadata": {},
   "outputs": [],
   "source": [
    "vectorizer = TfidfVectorizer()\n",
    "\n",
    "X_train = vectorizer.fit_transform([\" \".join(o) for o in X_train])\n",
    "X_test = vectorizer.transform([\" \".join(o) for o in X_test])"
   ]
  },
  {
   "cell_type": "code",
   "execution_count": 58,
   "metadata": {},
   "outputs": [
    {
     "name": "stdout",
     "output_type": "stream",
     "text": [
      "99.12\n"
     ]
    }
   ],
   "source": [
    "clf = RandomForestClassifier(n_estimators=100)\n",
    "clf.fit(X_train, y_train)\n",
    "y_pred = clf.predict(X_test)\n",
    "y_pred_proba = clf.predict_proba(X_test)\n",
    "acc_random_forest = round(clf.score(X_train, y_train) * 100, 2)\n",
    "print(acc_random_forest)"
   ]
  },
  {
   "cell_type": "code",
   "execution_count": 59,
   "metadata": {},
   "outputs": [],
   "source": [
    "pkl_filename = \"model.pkl\"\n",
    "with open(pkl_filename, 'wb') as file:\n",
    "    pickle.dump(clf, file)"
   ]
  },
  {
   "cell_type": "code",
   "execution_count": 60,
   "metadata": {},
   "outputs": [
    {
     "name": "stdout",
     "output_type": "stream",
     "text": [
      "[[0. 0. 0. 1. 0.]\n",
      " [0. 0. 0. 1. 0.]\n",
      " [0. 0. 0. 0. 1.]\n",
      " [0. 0. 1. 0. 0.]\n",
      " [1. 0. 0. 0. 0.]]\n",
      "[array([[0.93, 0.07],\n",
      "       [0.97, 0.03],\n",
      "       [0.79, 0.21],\n",
      "       [0.97, 0.03],\n",
      "       [0.38, 0.62],\n",
      "       [0.29, 0.71]]), array([[0.9  , 0.1  ],\n",
      "       [0.94 , 0.06 ],\n",
      "       [0.93 , 0.07 ],\n",
      "       [0.86 , 0.14 ],\n",
      "       [0.88 , 0.12 ],\n",
      "       [0.895, 0.105]]), array([[0.96 , 0.04 ],\n",
      "       [0.97 , 0.03 ],\n",
      "       [0.92 , 0.08 ],\n",
      "       [0.23 , 0.77 ],\n",
      "       [0.97 , 0.03 ],\n",
      "       [0.975, 0.025]]), array([[0.26, 0.74],\n",
      "       [0.22, 0.78],\n",
      "       [0.92, 0.08],\n",
      "       [1.  , 0.  ],\n",
      "       [0.98, 0.02],\n",
      "       [0.92, 0.08]]), array([[0.95, 0.05],\n",
      "       [0.9 , 0.1 ],\n",
      "       [0.44, 0.56],\n",
      "       [0.94, 0.06],\n",
      "       [0.79, 0.21],\n",
      "       [0.92, 0.08]])]\n"
     ]
    }
   ],
   "source": [
    "print(y_pred[:5])\n",
    "print(y_pred_proba[:5])"
   ]
  }
 ],
 "metadata": {
  "kernelspec": {
   "display_name": "Python 3",
   "language": "python",
   "name": "python3"
  },
  "language_info": {
   "codemirror_mode": {
    "name": "ipython",
    "version": 3
   },
   "file_extension": ".py",
   "mimetype": "text/x-python",
   "name": "python",
   "nbconvert_exporter": "python",
   "pygments_lexer": "ipython3",
   "version": "3.10.5 (main, Jun 21 2022, 21:18:07) [GCC 9.4.0]"
  },
  "orig_nbformat": 4,
  "vscode": {
   "interpreter": {
    "hash": "5893798fd32e7f01162674cd7e60cf41327f3af7a640a8883273104b20e031bc"
   }
  }
 },
 "nbformat": 4,
 "nbformat_minor": 2
}
